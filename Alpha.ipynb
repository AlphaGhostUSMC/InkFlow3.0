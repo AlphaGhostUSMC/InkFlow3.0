{
 "cells": [
  {
   "attachments": {},
   "cell_type": "markdown",
   "metadata": {},
   "source": [
    "### Server Modules\n",
    "- npm install bcryptjs cookie-parser cors dotenv express jsonwebtoken mongoose multer\n",
    "- npm i --save-dev nodemon\n",
    "\n",
    "### Client Modules"
   ]
  },
  {
   "cell_type": "code",
   "execution_count": 1,
   "metadata": {
    "dotnet_interactive": {
     "language": "html"
    },
    "polyglot_notebook": {
     "kernelName": "html"
    },
    "vscode": {
     "languageId": "polyglot-notebook"
    }
   },
   "outputs": [
    {
     "data": {
      "text/html": [
       "<header class=\"app-header\">\r\n",
       "    <div class=\"brand-logo-container\"><a href=\"https://example.com\"><img class=\"img-fluid brand-logo\" src=\"InkFlow Logo.svg\" /></a></div>\r\n",
       "    <div class=\"city-search-container\">\r\n",
       "        <form class=\"get-weather\"><input id=\"article-search-input\" class=\"form-control article-search-input\" type=\"search\" placeholder=\"Article\" spellcheck=\"false\" /></form>\r\n",
       "        <div class=\"exit-container\"><img class=\"go-home\" data-bs-toggle=\"tooltip\" data-bs-placement=\"left\" src=\"home.svg\" title=\"Home\" /><img class=\"sign-out\" data-bs-toggle=\"tooltip\" data-bs-placement=\"left\" src=\"logout.svg\" title=\"Sign Out\" /></div>\r\n",
       "    </div>\r\n",
       "</header>"
      ]
     },
     "metadata": {},
     "output_type": "display_data"
    }
   ],
   "source": [
    "<header class=\"app-header\">\n",
    "    <div class=\"brand-logo-container\"><a href=\"https://example.com\"><img class=\"img-fluid brand-logo\" src=\"InkFlow Logo.svg\" /></a></div>\n",
    "    <div class=\"city-search-container\">\n",
    "        <form class=\"get-weather\"><input id=\"article-search-input\" class=\"form-control article-search-input\" type=\"search\" placeholder=\"Article\" spellcheck=\"false\" /></form>\n",
    "        <div class=\"exit-container\"><img class=\"go-home\" data-bs-toggle=\"tooltip\" data-bs-placement=\"left\" src=\"home.svg\" title=\"Home\" /><img class=\"sign-out\" data-bs-toggle=\"tooltip\" data-bs-placement=\"left\" src=\"logout.svg\" title=\"Sign Out\" /></div>\n",
    "    </div>\n",
    "</header>\n",
    "\n",
    "import React from 'react';\n",
    "\n",
    "interface Props {}\n",
    "\n",
    "const Header: React.FC<Props> = () => {\n",
    "    return (\n",
    "        <header className=\"app-header\">\n",
    "            <div className=\"brand-logo-container\">\n",
    "                <a href=\"https://example.com\">\n",
    "                    <img className=\"img-fluid brand-logo\" src=\"InkFlow Logo.svg\" />\n",
    "                </a>\n",
    "            </div>\n",
    "            <div className=\"city-search-container\">\n",
    "                <form className=\"get-weather\">\n",
    "                    <input\n",
    "                        id=\"article-search-input\"\n",
    "                        className=\"form-control article-search-input\"\n",
    "                        type=\"search\"\n",
    "                        placeholder=\"Article\"\n",
    "                        spellCheck={false}\n",
    "                    />\n",
    "                </form>\n",
    "                <div className=\"exit-container\">\n",
    "                    <img\n",
    "                        className=\"go-home\"\n",
    "                        data-bs-toggle=\"tooltip\"\n",
    "                        data-bs-placement=\"left\"\n",
    "                        src=\"home.svg\"\n",
    "                        title=\"Home\"\n",
    "                    />\n",
    "                    <img\n",
    "                        className=\"sign-out\"\n",
    "                        data-bs-toggle=\"tooltip\"\n",
    "                        data-bs-placement=\"left\"\n",
    "                        src=\"logout.svg\"\n",
    "                        title=\"Sign Out\"\n",
    "                    />\n",
    "                </div>\n",
    "            </div>\n",
    "        </header>\n",
    "    );\n",
    "};\n",
    "\n",
    "export default Header;\n"
   ]
  }
 ],
 "metadata": {
  "kernelspec": {
   "display_name": "~JupyterLab",
   "language": "python",
   "name": "python3"
  },
  "language_info": {
   "name": "python",
   "version": "3.10.10"
  },
  "orig_nbformat": 4
 },
 "nbformat": 4,
 "nbformat_minor": 2
}

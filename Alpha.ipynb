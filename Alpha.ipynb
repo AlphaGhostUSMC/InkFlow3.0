{
 "cells": [
  {
   "attachments": {},
   "cell_type": "markdown",
   "metadata": {},
   "source": [
    "### Server Modules\n",
    "- npm install bcryptjs cookie-parser cors dotenv express jsonwebtoken mongoose multer\n",
    "- npm i --save-dev nodemon\n",
    "\n",
    "### Client Modules"
   ]
  }
 ],
 "metadata": {
  "kernelspec": {
   "display_name": "~JupyterLab",
   "language": "python",
   "name": "python3"
  },
  "language_info": {
   "name": "python",
   "version": "3.10.10"
  },
  "orig_nbformat": 4
 },
 "nbformat": 4,
 "nbformat_minor": 2
}

{
 "cells": [
  {
   "attachments": {},
   "cell_type": "markdown",
   "metadata": {},
   "source": [
    "### Server Modules\n",
    "- npm install bcryptjs cookie-parser cors dotenv express jsonwebtoken mongoose multer\n",
    "- npm i --save-dev nodemon\n",
    "\n",
    "### Client Modules"
   ]
  }
 ],
 "metadata": {
  "language_info": {
   "name": "python"
  },
  "orig_nbformat": 4
 },
 "nbformat": 4,
 "nbformat_minor": 2
}
